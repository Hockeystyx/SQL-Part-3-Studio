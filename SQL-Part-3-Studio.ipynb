{
    "metadata": {
        "kernelspec": {
            "name": "SQL",
            "display_name": "SQL",
            "language": "sql"
        },
        "language_info": {
            "name": "sql",
            "version": ""
        },
        "extensions": {
            "azuredatastudio": {
                "version": 1,
                "views": []
            }
        }
    },
    "nbformat_minor": 2,
    "nbformat": 4,
    "cells": [
        {
            "cell_type": "markdown",
            "source": [
                "# SQL Part 3 Studio\n",
                "\n",
                "### Let's practice your SQL quering skills!  For each question, work along in the notebook adding your query and answering the questions. \n",
                "\n",
                "### **DataSet**\n",
                "\n",
                "### <span style=\"font-size: 14px; font-family: -apple-system, BlinkMacSystemFont, sans-serif;\">We will be using the Goodbooks-10k dataset from the exercises in the prep work.&nbsp; Feel free reference your previous notebooks.</span>\n",
                "\n",
                "- The dataset can be found here: [goodbooks-10k](https://www.kaggle.com/zygmunt/goodbooks-10k)\n",
                "- You can access the **BooksDB** in the Launchcode server.\n",
                "\n",
                "### **Business Issue**\n",
                "\n",
                "You are an employee at a small independet bookstore and you have been tasked to increase sales.  You decide to use the BooksDB to find books and themes to highlight in fun promotions throughout each month / season.  We will be starting with March and then you will have a chance to explore another month of your choosing.  We want to come up with a list of events/ promotions to run each month.  If you are looking for ideas to include in your promotions:\n",
                "\n",
                "- [https://www.calendarr.com/united-states/calendar-2022/](https://www.calendarr.com/united-states/calendar-2022/)\n",
                "- [https://www.holidayinsights.com/moreholidays/](https://www.holidayinsights.com/moreholidays/)\n",
                "    - Click on a month and it will take you to a more detailed page"
            ],
            "metadata": {
                "azdata_cell_guid": "b9034d8a-b631-48bf-a895-1012a6ffa784"
            },
            "attachments": {}
        },
        {
            "cell_type": "markdown",
            "source": [
                "## Part 1:  March - Women's History Month, Dr Seuss Day(3/2), National Pie Day3/14, St Patrick's Day (3/17), Season - Spring"
            ],
            "metadata": {
                "azdata_cell_guid": "6e55eb1c-4a14-4076-90d2-95ed17a6309f"
            },
            "attachments": {}
        },
        {
            "cell_type": "markdown",
            "source": [
                "### **Event 1:** Women's History Month\n",
                "\n",
                "Goal: Highlight Popular Womans Authors based on ratings from the Good Reads DB.\n",
                "\n",
                "### **Write a query that returns tag\\_id, the number of times each tag\\_id is used and the tag\\_name.**  \n",
                "\n",
                "### Use the GROUP BY and HAVING clause to narrow your focus.\n",
                "\n",
                "Try multiple keywords, ie woman vs female (female ended up giving better results)"
            ],
            "metadata": {
                "azdata_cell_guid": "d220c097-e9cf-4edd-9abe-312d071217b7"
            },
            "attachments": {}
        },
        {
            "cell_type": "code",
            "source": [
                "-- Solution\r\n",
                "SELECT DISTINCT bt.tag_id, t.tag_name, COUNT(t.tag_name) AS tag_count\r\n",
                "FROM BooksDB.dbo.book_tags as bt\r\n",
                "INNER JOIN BooksDB.dbo.tags as t\r\n",
                "ON bt.tag_id = t.tag_id\r\n",
                "WHERE t.tag_name LIKE '%female%'\r\n",
                "GROUP BY bt.tag_id, t.tag_name\r\n",
                "ORDER BY tag_count DESC;"
            ],
            "metadata": {
                "azdata_cell_guid": "e31b9d26-0386-44c7-828e-85f4f06f3ee6",
                "tags": [],
                "language": "sql"
            },
            "outputs": [
                {
                    "output_type": "display_data",
                    "data": {
                        "text/html": "(35 rows affected)"
                    },
                    "metadata": {}
                },
                {
                    "output_type": "display_data",
                    "data": {
                        "text/html": "Total execution time: 00:00:00.183"
                    },
                    "metadata": {}
                },
                {
                    "output_type": "execute_result",
                    "metadata": {},
                    "execution_count": 20,
                    "data": {
                        "application/vnd.dataresource+json": {
                            "schema": {
                                "fields": [
                                    {
                                        "name": "tag_id"
                                    },
                                    {
                                        "name": "tag_name"
                                    },
                                    {
                                        "name": "tag_count"
                                    }
                                ]
                            },
                            "data": [
                                {
                                    "0": "11643",
                                    "1": "female-author",
                                    "2": "997"
                                },
                                {
                                    "0": "11644",
                                    "1": "female-authors",
                                    "2": "721"
                                },
                                {
                                    "0": "11658",
                                    "1": "female-protagonist",
                                    "2": "171"
                                },
                                {
                                    "0": "11646",
                                    "1": "female-detective",
                                    "2": "32"
                                },
                                {
                                    "0": "11662",
                                    "1": "female-writers",
                                    "2": "18"
                                },
                                {
                                    "0": "11642",
                                    "1": "female",
                                    "2": "17"
                                },
                                {
                                    "0": "11656",
                                    "1": "female-pov",
                                    "2": "17"
                                },
                                {
                                    "0": "11652",
                                    "1": "female-lead",
                                    "2": "14"
                                },
                                {
                                    "0": "3514",
                                    "1": "author-female",
                                    "2": "12"
                                },
                                {
                                    "0": "28834",
                                    "1": "strong-female-lead",
                                    "2": "10"
                                },
                                {
                                    "0": "11647",
                                    "1": "female-detectives",
                                    "2": "9"
                                },
                                {
                                    "0": "11650",
                                    "1": "female-friendship",
                                    "2": "4"
                                },
                                {
                                    "0": "28830",
                                    "1": "strong-female",
                                    "2": "4"
                                },
                                {
                                    "0": "28833",
                                    "1": "strong-female-characters",
                                    "2": "3"
                                },
                                {
                                    "0": "11645",
                                    "1": "female-biographies",
                                    "2": "2"
                                },
                                {
                                    "0": "1741",
                                    "1": "afghan-female-entrepreneur-under-ta",
                                    "2": "1"
                                },
                                {
                                    "0": "4309",
                                    "1": "best-adult-female-friendship-books",
                                    "2": "1"
                                },
                                {
                                    "0": "11648",
                                    "1": "female-doctor",
                                    "2": "1"
                                },
                                {
                                    "0": "11649",
                                    "1": "female-fiction",
                                    "2": "1"
                                },
                                {
                                    "0": "11651",
                                    "1": "female-genre-authors",
                                    "2": "1"
                                },
                                {
                                    "0": "11653",
                                    "1": "female-main-character",
                                    "2": "1"
                                },
                                {
                                    "0": "11654",
                                    "1": "female-persuasion",
                                    "2": "1"
                                },
                                {
                                    "0": "11655",
                                    "1": "female-pi",
                                    "2": "1"
                                },
                                {
                                    "0": "11657",
                                    "1": "female-povs",
                                    "2": "1"
                                },
                                {
                                    "0": "11659",
                                    "1": "female-serial-killer",
                                    "2": "1"
                                },
                                {
                                    "0": "11660",
                                    "1": "female-spy",
                                    "2": "1"
                                },
                                {
                                    "0": "11661",
                                    "1": "female-writer",
                                    "2": "1"
                                },
                                {
                                    "0": "15331",
                                    "1": "important-female-authors",
                                    "2": "1"
                                },
                                {
                                    "0": "17079",
                                    "1": "kick-ass-female",
                                    "2": "1"
                                },
                                {
                                    "0": "24455",
                                    "1": "protagonist-female",
                                    "2": "1"
                                },
                                {
                                    "0": "28831",
                                    "1": "strong-female-character",
                                    "2": "1"
                                },
                                {
                                    "0": "28832",
                                    "1": "strong-female-character-s",
                                    "2": "1"
                                },
                                {
                                    "0": "28835",
                                    "1": "strong-female-protagonist",
                                    "2": "1"
                                },
                                {
                                    "0": "28836",
                                    "1": "strong-female-supporting-characters",
                                    "2": "1"
                                },
                                {
                                    "0": "29324",
                                    "1": "tbr-ax-female",
                                    "2": "1"
                                }
                            ]
                        },
                        "text/html": [
                            "<table>",
                            "<tr><th>tag_id</th><th>tag_name</th><th>tag_count</th></tr>",
                            "<tr><td>11643</td><td>female-author</td><td>997</td></tr>",
                            "<tr><td>11644</td><td>female-authors</td><td>721</td></tr>",
                            "<tr><td>11658</td><td>female-protagonist</td><td>171</td></tr>",
                            "<tr><td>11646</td><td>female-detective</td><td>32</td></tr>",
                            "<tr><td>11662</td><td>female-writers</td><td>18</td></tr>",
                            "<tr><td>11642</td><td>female</td><td>17</td></tr>",
                            "<tr><td>11656</td><td>female-pov</td><td>17</td></tr>",
                            "<tr><td>11652</td><td>female-lead</td><td>14</td></tr>",
                            "<tr><td>3514</td><td>author-female</td><td>12</td></tr>",
                            "<tr><td>28834</td><td>strong-female-lead</td><td>10</td></tr>",
                            "<tr><td>11647</td><td>female-detectives</td><td>9</td></tr>",
                            "<tr><td>11650</td><td>female-friendship</td><td>4</td></tr>",
                            "<tr><td>28830</td><td>strong-female</td><td>4</td></tr>",
                            "<tr><td>28833</td><td>strong-female-characters</td><td>3</td></tr>",
                            "<tr><td>11645</td><td>female-biographies</td><td>2</td></tr>",
                            "<tr><td>1741</td><td>afghan-female-entrepreneur-under-ta</td><td>1</td></tr>",
                            "<tr><td>4309</td><td>best-adult-female-friendship-books</td><td>1</td></tr>",
                            "<tr><td>11648</td><td>female-doctor</td><td>1</td></tr>",
                            "<tr><td>11649</td><td>female-fiction</td><td>1</td></tr>",
                            "<tr><td>11651</td><td>female-genre-authors</td><td>1</td></tr>",
                            "<tr><td>11653</td><td>female-main-character</td><td>1</td></tr>",
                            "<tr><td>11654</td><td>female-persuasion</td><td>1</td></tr>",
                            "<tr><td>11655</td><td>female-pi</td><td>1</td></tr>",
                            "<tr><td>11657</td><td>female-povs</td><td>1</td></tr>",
                            "<tr><td>11659</td><td>female-serial-killer</td><td>1</td></tr>",
                            "<tr><td>11660</td><td>female-spy</td><td>1</td></tr>",
                            "<tr><td>11661</td><td>female-writer</td><td>1</td></tr>",
                            "<tr><td>15331</td><td>important-female-authors</td><td>1</td></tr>",
                            "<tr><td>17079</td><td>kick-ass-female</td><td>1</td></tr>",
                            "<tr><td>24455</td><td>protagonist-female</td><td>1</td></tr>",
                            "<tr><td>28831</td><td>strong-female-character</td><td>1</td></tr>",
                            "<tr><td>28832</td><td>strong-female-character-s</td><td>1</td></tr>",
                            "<tr><td>28835</td><td>strong-female-protagonist</td><td>1</td></tr>",
                            "<tr><td>28836</td><td>strong-female-supporting-characters</td><td>1</td></tr>",
                            "<tr><td>29324</td><td>tbr-ax-female</td><td>1</td></tr>",
                            "</table>"
                        ]
                    }
                }
            ],
            "execution_count": 20
        },
        {
            "cell_type": "markdown",
            "source": [
                "### **Which keyword(s) and tag(s) would you like to explore more?**\n",
                "\n",
                "17079 kick-ass-female,  28831 strong-female-character"
            ],
            "metadata": {
                "azdata_cell_guid": "e9acd8b5-a62b-4ac0-bd07-19915b379ba6"
            },
            "attachments": {}
        },
        {
            "cell_type": "markdown",
            "source": [
                "### **Write a query to return authors, titles, ratings and** **selected tag(s)\\_id.**"
            ],
            "metadata": {
                "azdata_cell_guid": "59b84464-c0bc-4dac-9e02-0c803765b063"
            },
            "attachments": {}
        },
        {
            "cell_type": "code",
            "source": [
                "-- Solution\r\n",
                "SELECT b.title, b.average_rating, b.authors, b.book_id, t.tag_id, t.tag_name, COUNT(*) AS times_used\r\n",
                "FROM BooksDB.dbo.books AS b\r\n",
                "FULL JOIN BooksDB.dbo.tags AS t\r\n",
                "ON b.book_id = t.tag_id\r\n",
                "WHERE t.tag_id = 11643\r\n",
                "GROUP BY b.title, b.average_rating, b.authors, b.book_id, t.tag_id, t.tag_name\r\n",
                "--HAVING COUNT(*) > 100\r\n",
                "ORDER BY times_used;\r\n",
                ""
            ],
            "metadata": {
                "azdata_cell_guid": "51ffeaaf-6dde-4906-95f3-eb8757babf27",
                "tags": [],
                "language": "sql"
            },
            "outputs": [
                {
                    "output_type": "display_data",
                    "data": {
                        "text/html": "(1 row affected)"
                    },
                    "metadata": {}
                },
                {
                    "output_type": "display_data",
                    "data": {
                        "text/html": "Total execution time: 00:00:00.043"
                    },
                    "metadata": {}
                },
                {
                    "output_type": "execute_result",
                    "metadata": {},
                    "execution_count": 38,
                    "data": {
                        "application/vnd.dataresource+json": {
                            "schema": {
                                "fields": [
                                    {
                                        "name": "title"
                                    },
                                    {
                                        "name": "average_rating"
                                    },
                                    {
                                        "name": "authors"
                                    },
                                    {
                                        "name": "book_id"
                                    },
                                    {
                                        "name": "tag_id"
                                    },
                                    {
                                        "name": "tag_name"
                                    },
                                    {
                                        "name": "times_used"
                                    }
                                ]
                            },
                            "data": [
                                {
                                    "0": "NULL",
                                    "1": "NULL",
                                    "2": "NULL",
                                    "3": "NULL",
                                    "4": "11643",
                                    "5": "female-author",
                                    "6": "1"
                                }
                            ]
                        },
                        "text/html": [
                            "<table>",
                            "<tr><th>title</th><th>average_rating</th><th>authors</th><th>book_id</th><th>tag_id</th><th>tag_name</th><th>times_used</th></tr>",
                            "<tr><td>NULL</td><td>NULL</td><td>NULL</td><td>NULL</td><td>11643</td><td>female-author</td><td>1</td></tr>",
                            "</table>"
                        ]
                    }
                }
            ],
            "execution_count": 38
        },
        {
            "cell_type": "markdown",
            "source": [
                "### **Record your thoughts about why you wrote the query the way you did.**"
            ],
            "metadata": {
                "azdata_cell_guid": "1e19a72c-1bca-446b-a0c7-a8efbc35dcf1"
            },
            "attachments": {}
        },
        {
            "cell_type": "markdown",
            "source": [
                "# Part 2: Choose Another Month\n",
                "\n",
                "Choose another month and plan at least 2 events / promotions and answer the following questions.\n",
                "\n",
                "Which month did you choose?  \n",
                "\n",
                "What 2 events / promotions are you highlighting?\n",
                "\n",
                "> 1. November\n",
                "\n",
                "> 2. Pumpkin Spiced Latte (Coffee)  /  Pumpkins"
            ],
            "metadata": {
                "azdata_cell_guid": "3eaf376d-9de3-4553-a9d0-9caf74ee3d6a"
            },
            "attachments": {}
        },
        {
            "cell_type": "markdown",
            "source": [
                "# Part 3: Summarize your Work\n",
                "\n",
                "For each event write at least one query that joins any two tables in the BooksDB to support your choice and record you thoughts as to why you used the paticlular query. At least one of your queries needs to include a HAVING clause."
            ],
            "metadata": {
                "azdata_cell_guid": "1ba1363a-4f02-4962-a95a-93b80c5926b1"
            },
            "attachments": {}
        },
        {
            "cell_type": "code",
            "source": [
                "-- Event 1 Query\r\n",
                "SELECT DISTINCT bt.tag_id, t.tag_name, COUNT(t.tag_name) AS tag_count\r\n",
                "FROM BooksDB.dbo.book_tags as bt\r\n",
                "INNER JOIN BooksDB.dbo.tags as t\r\n",
                "ON bt.tag_id = t.tag_id\r\n",
                "WHERE t.tag_name LIKE '%coffee%'\r\n",
                "GROUP BY bt.tag_id, t.tag_name\r\n",
                "ORDER BY tag_count DESC;"
            ],
            "metadata": {
                "azdata_cell_guid": "f50d32ce-4cb2-4af2-acb1-607777a76cf8",
                "language": "sql"
            },
            "outputs": [
                {
                    "output_type": "display_data",
                    "data": {
                        "text/html": "(11 rows affected)"
                    },
                    "metadata": {}
                },
                {
                    "output_type": "display_data",
                    "data": {
                        "text/html": "Total execution time: 00:00:00.171"
                    },
                    "metadata": {}
                },
                {
                    "output_type": "execute_result",
                    "metadata": {},
                    "execution_count": 39,
                    "data": {
                        "application/vnd.dataresource+json": {
                            "schema": {
                                "fields": [
                                    {
                                        "name": "tag_id"
                                    },
                                    {
                                        "name": "tag_name"
                                    },
                                    {
                                        "name": "tag_count"
                                    }
                                ]
                            },
                            "data": [
                                {
                                    "0": "7612",
                                    "1": "coffee-table",
                                    "2": "30"
                                },
                                {
                                    "0": "7614",
                                    "1": "coffee-table-books",
                                    "2": "23"
                                },
                                {
                                    "0": "7613",
                                    "1": "coffee-table-book",
                                    "2": "4"
                                },
                                {
                                    "0": "7615",
                                    "1": "coffee-table-reading",
                                    "2": "4"
                                },
                                {
                                    "0": "7610",
                                    "1": "coffee",
                                    "2": "2"
                                },
                                {
                                    "0": "7611",
                                    "1": "coffee-cakes-and-sweets-reading",
                                    "2": "1"
                                },
                                {
                                    "0": "7616",
                                    "1": "coffeetable",
                                    "2": "1"
                                },
                                {
                                    "0": "8152",
                                    "1": "cookbooks-and-coffeetables",
                                    "2": "1"
                                },
                                {
                                    "0": "8228",
                                    "1": "cooking-crafts-coffee-tables",
                                    "2": "1"
                                },
                                {
                                    "0": "20796",
                                    "1": "my-coffeetable-books",
                                    "2": "1"
                                },
                                {
                                    "0": "21704",
                                    "1": "non-fiction-coffee-table",
                                    "2": "1"
                                }
                            ]
                        },
                        "text/html": [
                            "<table>",
                            "<tr><th>tag_id</th><th>tag_name</th><th>tag_count</th></tr>",
                            "<tr><td>7612</td><td>coffee-table</td><td>30</td></tr>",
                            "<tr><td>7614</td><td>coffee-table-books</td><td>23</td></tr>",
                            "<tr><td>7613</td><td>coffee-table-book</td><td>4</td></tr>",
                            "<tr><td>7615</td><td>coffee-table-reading</td><td>4</td></tr>",
                            "<tr><td>7610</td><td>coffee</td><td>2</td></tr>",
                            "<tr><td>7611</td><td>coffee-cakes-and-sweets-reading</td><td>1</td></tr>",
                            "<tr><td>7616</td><td>coffeetable</td><td>1</td></tr>",
                            "<tr><td>8152</td><td>cookbooks-and-coffeetables</td><td>1</td></tr>",
                            "<tr><td>8228</td><td>cooking-crafts-coffee-tables</td><td>1</td></tr>",
                            "<tr><td>20796</td><td>my-coffeetable-books</td><td>1</td></tr>",
                            "<tr><td>21704</td><td>non-fiction-coffee-table</td><td>1</td></tr>",
                            "</table>"
                        ]
                    }
                }
            ],
            "execution_count": 39
        },
        {
            "cell_type": "code",
            "source": [
                "SELECT b.title, b.average_rating, b.authors, b.book_id, t.tag_id, t.tag_name, COUNT(*) AS times_used\r\n",
                "FROM BooksDB.dbo.books AS b\r\n",
                "FULL JOIN BooksDB.dbo.tags AS t\r\n",
                "ON b.book_id = t.tag_id\r\n",
                "WHERE t.tag_id = 7610\r\n",
                "GROUP BY b.title, b.average_rating, b.authors, b.book_id, t.tag_id, t.tag_name\r\n",
                "--HAVING COUNT(*) > 100\r\n",
                "ORDER BY times_used;\r\n",
                ""
            ],
            "metadata": {
                "azdata_cell_guid": "5606f7f2-c46b-42d3-ac64-7ae21c3394f8",
                "language": "sql"
            },
            "outputs": [
                {
                    "output_type": "display_data",
                    "data": {
                        "text/html": "(1 row affected)"
                    },
                    "metadata": {}
                },
                {
                    "output_type": "display_data",
                    "data": {
                        "text/html": "Total execution time: 00:00:00.049"
                    },
                    "metadata": {}
                },
                {
                    "output_type": "execute_result",
                    "metadata": {},
                    "execution_count": 45,
                    "data": {
                        "application/vnd.dataresource+json": {
                            "schema": {
                                "fields": [
                                    {
                                        "name": "title"
                                    },
                                    {
                                        "name": "average_rating"
                                    },
                                    {
                                        "name": "authors"
                                    },
                                    {
                                        "name": "book_id"
                                    },
                                    {
                                        "name": "tag_id"
                                    },
                                    {
                                        "name": "tag_name"
                                    },
                                    {
                                        "name": "times_used"
                                    }
                                ]
                            },
                            "data": [
                                {
                                    "0": "NULL",
                                    "1": "NULL",
                                    "2": "NULL",
                                    "3": "NULL",
                                    "4": "7610",
                                    "5": "coffee",
                                    "6": "1"
                                }
                            ]
                        },
                        "text/html": [
                            "<table>",
                            "<tr><th>title</th><th>average_rating</th><th>authors</th><th>book_id</th><th>tag_id</th><th>tag_name</th><th>times_used</th></tr>",
                            "<tr><td>NULL</td><td>NULL</td><td>NULL</td><td>NULL</td><td>7610</td><td>coffee</td><td>1</td></tr>",
                            "</table>"
                        ]
                    }
                }
            ],
            "execution_count": 45
        },
        {
            "cell_type": "markdown",
            "source": [
                "### **Summary of event 1:**\n",
                "\n",
                "Double Click to edit."
            ],
            "metadata": {
                "azdata_cell_guid": "3bc72d4c-077b-42d3-9528-9aff8e7b6cf3"
            },
            "attachments": {}
        },
        {
            "cell_type": "code",
            "source": [
                "-- Event 2 Query\r\n",
                "SELECT DISTINCT bt.tag_id, t.tag_name, COUNT(t.tag_name) AS tag_count\r\n",
                "FROM BooksDB.dbo.book_tags as bt\r\n",
                "INNER JOIN BooksDB.dbo.tags as t\r\n",
                "ON bt.tag_id = t.tag_id\r\n",
                "WHERE t.tag_name LIKE '%pumpkin%'\r\n",
                "GROUP BY bt.tag_id, t.tag_name\r\n",
                "ORDER BY tag_count DESC;"
            ],
            "metadata": {
                "azdata_cell_guid": "dca0a98f-065f-4b0e-9d93-fcb01cad668c",
                "language": "sql"
            },
            "outputs": [
                {
                    "output_type": "display_data",
                    "data": {
                        "text/html": "(1 row affected)"
                    },
                    "metadata": {}
                },
                {
                    "output_type": "display_data",
                    "data": {
                        "text/html": "Total execution time: 00:00:00.153"
                    },
                    "metadata": {}
                },
                {
                    "output_type": "execute_result",
                    "metadata": {},
                    "execution_count": 41,
                    "data": {
                        "application/vnd.dataresource+json": {
                            "schema": {
                                "fields": [
                                    {
                                        "name": "tag_id"
                                    },
                                    {
                                        "name": "tag_name"
                                    },
                                    {
                                        "name": "tag_count"
                                    }
                                ]
                            },
                            "data": [
                                {
                                    "0": "24652",
                                    "1": "pumpkins",
                                    "2": "1"
                                }
                            ]
                        },
                        "text/html": [
                            "<table>",
                            "<tr><th>tag_id</th><th>tag_name</th><th>tag_count</th></tr>",
                            "<tr><td>24652</td><td>pumpkins</td><td>1</td></tr>",
                            "</table>"
                        ]
                    }
                }
            ],
            "execution_count": 41
        },
        {
            "cell_type": "code",
            "source": [
                "SELECT b.title, b.average_rating, b.authors, b.book_id, t.tag_id, t.tag_name\r\n",
                "INNER JOIN BooksDB.dbo.tags AS t\r\n",
                "ON b.book_id = t.tag_id\r\n",
                "WHERE t.tag_id = 24652\r\n",
                "GROUP BY b.title, b.average_rating, b.authors, b.book_id, t.tag_id, t.tag_name\r\n",
                "HAVING COUNT(*) > 100\r\n",
                "ORDER BY b.title;\r\n",
                ""
            ],
            "metadata": {
                "azdata_cell_guid": "3aaae3a8-eff7-4b37-8970-2d913a67239b",
                "language": "sql",
                "tags": []
            },
            "outputs": [
                {
                    "output_type": "error",
                    "evalue": "Msg 156, Level 15, State 1, Line 2\r\nIncorrect syntax near the keyword 'INNER'.",
                    "ename": "",
                    "traceback": []
                },
                {
                    "output_type": "display_data",
                    "data": {
                        "text/html": "Total execution time: 00:00:00.032"
                    },
                    "metadata": {}
                }
            ],
            "execution_count": 44
        },
        {
            "cell_type": "markdown",
            "source": [
                "### **Summary of event 2:**\n",
                "\n",
                "Double Click to edit."
            ],
            "metadata": {
                "azdata_cell_guid": "99d518dc-cd8b-42d6-9a9d-708771c9aa99"
            },
            "attachments": {}
        }
    ]
}